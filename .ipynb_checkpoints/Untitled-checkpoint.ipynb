{
 "cells": [
  {
   "cell_type": "code",
   "execution_count": 19,
   "metadata": {
    "collapsed": true
   },
   "outputs": [],
   "source": [
    "def almostIncreasingSequence(sequence):\n",
    "    fact = []\n",
    "    for i in range(len(sequence)):\n",
    "        seq = sequence[:]\n",
    "        answer = []\n",
    "        seq.pop(i)\n",
    "        \n",
    "        for j in range(len(seq)-1):\n",
    "            print(seq)\n",
    "            if seq[j] < seq[j+1]:\n",
    "                answer.append(True)\n",
    "            else:\n",
    "                answer.append(False)\n",
    "        \n",
    "        if sum(answer)==(len(seq)-1):\n",
    "            fact.append(True)\n",
    "        else:\n",
    "            fact.append(False)\n",
    "    print(fact)\n",
    "    if sum(fact) > 0:\n",
    "        return True\n",
    "    else:\n",
    "        return False"
   ]
  },
  {
   "cell_type": "code",
   "execution_count": 20,
   "metadata": {},
   "outputs": [
    {
     "name": "stdout",
     "output_type": "stream",
     "text": [
      "[]\n",
      "[1]\n",
      "[1, 2]\n",
      "[1, 2]\n",
      "[1, 2, 3]\n",
      "[1, 2, 3]\n",
      "[1, 2, 3]\n",
      "[1, 2, 3, 4]\n",
      "[1, 2, 3, 4]\n",
      "[1, 2, 3, 4]\n",
      "[1, 2, 3, 4]\n",
      "[1, 2, 3, 4, 3]\n",
      "[1, 2, 3, 4, 3]\n",
      "[1, 2, 3, 4, 3]\n",
      "[1, 2, 3, 4, 3]\n",
      "[1, 2, 3, 4, 3]\n",
      "[False, True, True, True, True, False]\n"
     ]
    },
    {
     "data": {
      "text/plain": [
       "True"
      ]
     },
     "execution_count": 20,
     "metadata": {},
     "output_type": "execute_result"
    }
   ],
   "source": [
    "almostIncreasingSequence([1,2,3,4,3,6])"
   ]
  }
 ],
 "metadata": {
  "kernelspec": {
   "display_name": "Python 3",
   "language": "python",
   "name": "python3"
  },
  "language_info": {
   "codemirror_mode": {
    "name": "ipython",
    "version": 3
   },
   "file_extension": ".py",
   "mimetype": "text/x-python",
   "name": "python",
   "nbconvert_exporter": "python",
   "pygments_lexer": "ipython3",
   "version": "3.5.3"
  }
 },
 "nbformat": 4,
 "nbformat_minor": 2
}
