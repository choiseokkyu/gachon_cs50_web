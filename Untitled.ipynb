{
 "cells": [
  {
   "cell_type": "code",
   "execution_count": 24,
   "metadata": {
    "collapsed": true
   },
   "outputs": [],
   "source": [
    "# def almostIncreasingSequence(sequence):\n",
    "#     fact = []\n",
    "#     for i in range(len(sequence)):\n",
    "#         seq = sequence[:]\n",
    "#         answer = []\n",
    "#         seq.pop(i)\n",
    "        \n",
    "#         for j in range(len(seq)-1):\n",
    "#             if seq[j] < seq[j+1]:\n",
    "#                 answer.append(True)\n",
    "#             else:\n",
    "#                 answer.append(False)\n",
    "#         if sum(answer)==(len(seq)-1):\n",
    "#             fact.append(True)\n",
    "#         else:\n",
    "#             fact.append(False)\n",
    "#     if sum(fact) > 0:\n",
    "#         return True\n",
    "#     else:\n",
    "#         return False"
   ]
  },
  {
   "cell_type": "code",
   "execution_count": 37,
   "metadata": {
    "collapsed": true
   },
   "outputs": [],
   "source": [
    "def almostIncreasingSequence(sequence):\n",
    "    m = max(sequence)\n",
    "    return sequence.index(m)"
   ]
  },
  {
   "cell_type": "code",
   "execution_count": 36,
   "metadata": {},
   "outputs": [
    {
     "data": {
      "text/plain": [
       "2"
      ]
     },
     "execution_count": 36,
     "metadata": {},
     "output_type": "execute_result"
    }
   ],
   "source": [
    "almostIncreasingSequence([1,4,5,2,3,5,5,5,5,5,5])"
   ]
  }
 ],
 "metadata": {
  "kernelspec": {
   "display_name": "Python 3",
   "language": "python",
   "name": "python3"
  },
  "language_info": {
   "codemirror_mode": {
    "name": "ipython",
    "version": 3
   },
   "file_extension": ".py",
   "mimetype": "text/x-python",
   "name": "python",
   "nbconvert_exporter": "python",
   "pygments_lexer": "ipython3",
   "version": "3.5.3"
  }
 },
 "nbformat": 4,
 "nbformat_minor": 2
}
